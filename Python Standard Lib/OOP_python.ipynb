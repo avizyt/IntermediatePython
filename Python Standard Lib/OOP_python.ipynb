{
 "cells": [
  {
   "cell_type": "code",
   "execution_count": 1,
   "metadata": {},
   "outputs": [
    {
     "name": "stdout",
     "output_type": "stream",
     "text": [
      "Up and Running\n"
     ]
    }
   ],
   "source": [
    "print(\"Up and Running\")"
   ]
  },
  {
   "cell_type": "code",
   "execution_count": 5,
   "metadata": {},
   "outputs": [],
   "source": [
    "import datetime\n",
    "class Diary():\n",
    "    def __init__(self, birthday, christmas) -> None:\n",
    "        self.birthday = birthday\n",
    "        self.christmas = christmas\n",
    "        \n",
    "    @staticmethod\n",
    "    def format_date(date):\n",
    "        return date.strftime('%d-%b-%y')\n",
    "\n",
    "    def show_birthday(self):\n",
    "        return self.birthday.strftime('%d-%b-%y')\n",
    "    def show_christmas(self):\n",
    "        return self.christmas.strftime('%d-%b-%y')"
   ]
  },
  {
   "cell_type": "code",
   "execution_count": 3,
   "metadata": {},
   "outputs": [
    {
     "data": {
      "text/plain": [
       "'26-Nov-21'"
      ]
     },
     "execution_count": 3,
     "metadata": {},
     "output_type": "execute_result"
    }
   ],
   "source": [
    "my_diary = Diary(datetime.date(2021,11,26), datetime.date(2021, 12, 25))\n",
    "my_diary.show_birthday()"
   ]
  },
  {
   "cell_type": "code",
   "execution_count": 12,
   "metadata": {},
   "outputs": [],
   "source": [
    "class Country():\n",
    "    def __init__(self, name='Unspecified', population=None,size_kmsq=None):\n",
    "\n",
    "        self.name = name\n",
    "        self.population = population\n",
    "        self.size_kmsq = size_kmsq\n",
    "    \n",
    "    @classmethod\n",
    "    def create_with_msq(cls, name, population, size_msq):\n",
    "        size_kmsq = (size_msq/0.621371) ** 2\n",
    "        return cls(name, population, size_kmsq)"
   ]
  },
  {
   "cell_type": "code",
   "execution_count": 13,
   "metadata": {},
   "outputs": [
    {
     "data": {
      "text/plain": [
       "1495978058169.3457"
      ]
     },
     "execution_count": 13,
     "metadata": {},
     "output_type": "execute_result"
    }
   ],
   "source": [
    "mexico = Country.create_with_msq('Mexico', 150e6, 760000)\n",
    "mexico.size_kmsq"
   ]
  },
  {
   "cell_type": "code",
   "execution_count": 12,
   "metadata": {},
   "outputs": [],
   "source": [
    "# The properties decorator\n",
    "class Temparature():\n",
    "    def __init__(self, celsius):\n",
    "        self.celsius = celsius\n",
    "        # self.fahrenheit = fahrenheit\n",
    "\n",
    "    @property\n",
    "    def fahrenheit(self):\n",
    "        return self.celsius * 9/5 + 32"
   ]
  },
  {
   "cell_type": "code",
   "execution_count": 16,
   "metadata": {},
   "outputs": [
    {
     "data": {
      "text/plain": [
       "212.0"
      ]
     },
     "execution_count": 16,
     "metadata": {},
     "output_type": "execute_result"
    }
   ],
   "source": [
    "frezing = Temparature(100)\n",
    "frezing.fahrenheit"
   ]
  },
  {
   "cell_type": "code",
   "execution_count": 17,
   "metadata": {},
   "outputs": [
    {
     "name": "stdout",
     "output_type": "stream",
     "text": [
      "32.0\n",
      "14.0\n"
     ]
    }
   ],
   "source": [
    "my_temp = Temparature(0)\n",
    "print(my_temp.fahrenheit)\n",
    "my_temp.celsius = -10\n",
    "print(my_temp.fahrenheit)"
   ]
  },
  {
   "cell_type": "markdown",
   "metadata": {},
   "source": [
    "### @property : It simply allows a method to be accessed as an attribute of an object rather than meeding to call it like a function with()\n",
    "\n",
    "### @function.setter : Setter method will called when user assign a value to a property. It allows us to write cade where the user doesn't need to think about which attributes of an object are stored as instance attributes rather than computed by functions.\n",
    "\n",
    "### --> The decorator should be the method name, followed by .setter\n",
    "### --> It should take the value being assigned as a single argument(after self)\n",
    "### --> the name of the setter method should be the same as the name of the property."
   ]
  },
  {
   "cell_type": "code",
   "execution_count": 31,
   "metadata": {},
   "outputs": [],
   "source": [
    "class Person():\n",
    "    def __init__(self, first_name, last_name) -> None:\n",
    "        self.first_name = first_name\n",
    "        self.last_name = last_name\n",
    "    @property\n",
    "    def full_name(self):\n",
    "        return f\"{self.first_name} {self.last_name}\"\n",
    "\n",
    "    @full_name.setter\n",
    "    def full_name(self, name):\n",
    "        first, last = name.split(' ')\n",
    "        self.first_name = first\n",
    "        self.last_name = last\n"
   ]
  },
  {
   "cell_type": "code",
   "execution_count": 32,
   "metadata": {},
   "outputs": [
    {
     "data": {
      "text/plain": [
       "'Avijit Biswas'"
      ]
     },
     "execution_count": 32,
     "metadata": {},
     "output_type": "execute_result"
    }
   ],
   "source": [
    "customer = Person(\"Avijit\", \"Biswas\")\n",
    "customer.full_name"
   ]
  },
  {
   "cell_type": "code",
   "execution_count": 33,
   "metadata": {},
   "outputs": [
    {
     "data": {
      "text/plain": [
       "'Subhajit Biswas'"
      ]
     },
     "execution_count": 33,
     "metadata": {},
     "output_type": "execute_result"
    }
   ],
   "source": [
    "customer.first_name = \"Subhajit\"\n",
    "customer.full_name"
   ]
  },
  {
   "cell_type": "code",
   "execution_count": 35,
   "metadata": {},
   "outputs": [
    {
     "data": {
      "text/plain": [
       "'Surajit'"
      ]
     },
     "execution_count": 35,
     "metadata": {},
     "output_type": "execute_result"
    }
   ],
   "source": [
    "customer.full_name = \"Surajit Biswas\"\n",
    "customer.first_name"
   ]
  },
  {
   "cell_type": "code",
   "execution_count": 37,
   "metadata": {},
   "outputs": [],
   "source": [
    "## temparature class\n",
    "class Temp():\n",
    "    def __init__(self, celsius):\n",
    "        self.celsius = celsius\n",
    "\n",
    "    @property\n",
    "    def fahrenheit(self):\n",
    "        return self.celsius * 9/ 5 + 32\n",
    "\n",
    "    @fahrenheit.setter\n",
    "    def fahrenheit(self, value):\n",
    "        self.celsius = (value - 32) * 5/ 9"
   ]
  },
  {
   "cell_type": "code",
   "execution_count": 38,
   "metadata": {},
   "outputs": [
    {
     "data": {
      "text/plain": [
       "212.0"
      ]
     },
     "execution_count": 38,
     "metadata": {},
     "output_type": "execute_result"
    }
   ],
   "source": [
    "T = Temp(100)\n",
    "T.fahrenheit"
   ]
  },
  {
   "cell_type": "code",
   "execution_count": 39,
   "metadata": {},
   "outputs": [
    {
     "data": {
      "text/plain": [
       "100.0"
      ]
     },
     "execution_count": 39,
     "metadata": {},
     "output_type": "execute_result"
    }
   ],
   "source": [
    "T.fahrenheit = 212\n",
    "T.celsius"
   ]
  },
  {
   "cell_type": "code",
   "execution_count": 40,
   "metadata": {},
   "outputs": [],
   "source": [
    "\n",
    "# temparature class updated\n",
    "class Temp():\n",
    "    def __init__(self, celsius):\n",
    "        self.celsius = celsius\n",
    "\n",
    "    @property\n",
    "    def fahrenheit(self):\n",
    "        return self.celsius * 9/ 5 + 32\n",
    "\n",
    "    @fahrenheit.setter\n",
    "    def fahrenheit(self, value):\n",
    "        if value < - 460:\n",
    "            raise ValueError(\"Temperatures less than -460F are npt possible.\")\n",
    "        self.celsius = (value - 32) * 5/ 9"
   ]
  },
  {
   "cell_type": "code",
   "execution_count": 41,
   "metadata": {},
   "outputs": [
    {
     "data": {
      "text/plain": [
       "41.0"
      ]
     },
     "execution_count": 41,
     "metadata": {},
     "output_type": "execute_result"
    }
   ],
   "source": [
    "temp = Temp(5)\n",
    "temp.fahrenheit"
   ]
  },
  {
   "cell_type": "code",
   "execution_count": 42,
   "metadata": {},
   "outputs": [
    {
     "ename": "ValueError",
     "evalue": "Temperatures less than -460F are npt possible.",
     "output_type": "error",
     "traceback": [
      "\u001b[1;31m---------------------------------------------------------------------------\u001b[0m",
      "\u001b[1;31mValueError\u001b[0m                                Traceback (most recent call last)",
      "\u001b[1;32m<ipython-input-42-449ba5c701a9>\u001b[0m in \u001b[0;36m<module>\u001b[1;34m\u001b[0m\n\u001b[1;32m----> 1\u001b[1;33m \u001b[0mtemp\u001b[0m\u001b[1;33m.\u001b[0m\u001b[0mfahrenheit\u001b[0m \u001b[1;33m=\u001b[0m \u001b[1;33m-\u001b[0m\u001b[1;36m500\u001b[0m\u001b[1;33m\u001b[0m\u001b[1;33m\u001b[0m\u001b[0m\n\u001b[0m",
      "\u001b[1;32m<ipython-input-40-03a1409ff2b7>\u001b[0m in \u001b[0;36mfahrenheit\u001b[1;34m(self, value)\u001b[0m\n\u001b[0;32m     11\u001b[0m     \u001b[1;32mdef\u001b[0m \u001b[0mfahrenheit\u001b[0m\u001b[1;33m(\u001b[0m\u001b[0mself\u001b[0m\u001b[1;33m,\u001b[0m \u001b[0mvalue\u001b[0m\u001b[1;33m)\u001b[0m\u001b[1;33m:\u001b[0m\u001b[1;33m\u001b[0m\u001b[1;33m\u001b[0m\u001b[0m\n\u001b[0;32m     12\u001b[0m         \u001b[1;32mif\u001b[0m \u001b[0mvalue\u001b[0m \u001b[1;33m<\u001b[0m \u001b[1;33m-\u001b[0m \u001b[1;36m460\u001b[0m\u001b[1;33m:\u001b[0m\u001b[1;33m\u001b[0m\u001b[1;33m\u001b[0m\u001b[0m\n\u001b[1;32m---> 13\u001b[1;33m             \u001b[1;32mraise\u001b[0m \u001b[0mValueError\u001b[0m\u001b[1;33m(\u001b[0m\u001b[1;34m\"Temperatures less than -460F are npt possible.\"\u001b[0m\u001b[1;33m)\u001b[0m\u001b[1;33m\u001b[0m\u001b[1;33m\u001b[0m\u001b[0m\n\u001b[0m\u001b[0;32m     14\u001b[0m         \u001b[0mself\u001b[0m\u001b[1;33m.\u001b[0m\u001b[0mcelsius\u001b[0m \u001b[1;33m=\u001b[0m \u001b[1;33m(\u001b[0m\u001b[0mvalue\u001b[0m \u001b[1;33m-\u001b[0m \u001b[1;36m32\u001b[0m\u001b[1;33m)\u001b[0m \u001b[1;33m*\u001b[0m \u001b[1;36m5\u001b[0m\u001b[1;33m/\u001b[0m \u001b[1;36m9\u001b[0m\u001b[1;33m\u001b[0m\u001b[1;33m\u001b[0m\u001b[0m\n",
      "\u001b[1;31mValueError\u001b[0m: Temperatures less than -460F are npt possible."
     ]
    }
   ],
   "source": [
    "temp.fahrenheit = -500"
   ]
  },
  {
   "cell_type": "markdown",
   "metadata": {},
   "source": [
    "# __Inheritance__"
   ]
  },
  {
   "cell_type": "markdown",
   "metadata": {},
   "source": [
    "### Single inheritance, also known as sub-classing, involves creating a child class that inherits the attributes and methods of a single parent class."
   ]
  },
  {
   "cell_type": "code",
   "execution_count": 43,
   "metadata": {},
   "outputs": [],
   "source": [
    "class Pet():\n",
    "    def __init__(self, name, weight):\n",
    "        self.name = name\n",
    "        self.weight = weight\n",
    "    \n",
    "class Cat(Pet):\n",
    "    is_feline = True\n",
    "\n",
    "class Dog(Pet):\n",
    "    is_feline = False\n",
    "    "
   ]
  },
  {
   "cell_type": "code",
   "execution_count": 44,
   "metadata": {},
   "outputs": [
    {
     "data": {
      "text/plain": [
       "'Kibble'"
      ]
     },
     "execution_count": 44,
     "metadata": {},
     "output_type": "execute_result"
    }
   ],
   "source": [
    "my_cat = Cat('Kibble', 8)\n",
    "my_cat.name"
   ]
  },
  {
   "cell_type": "code",
   "execution_count": 49,
   "metadata": {},
   "outputs": [],
   "source": [
    "class Polygon():\n",
    "    \"\"\"\n",
    "    A class to capture utilities for dealing with shapes.\n",
    "    \"\"\"\n",
    "    def __init__(self, side_lengths):\n",
    "        self.side_lengths = side_lengths\n",
    "\n",
    "    @property\n",
    "    def num_sides(self):\n",
    "        return len(self.side_lengths)\n",
    "    \n",
    "    @property\n",
    "    def permeter(self):\n",
    "        return sum(self.side_lengths)\n",
    "\n",
    "    def __str__(self) -> str:\n",
    "        return f\"Polygon with {self.num_sides} sides.\"\n",
    "\n",
    "\n",
    "class Rectangle(Polygon):\n",
    "    def __init__(self, height, width):\n",
    "        super().__init__([height, width, height, width])\n",
    "    \n",
    "    @property\n",
    "    def area(self):\n",
    "        return self.side_lengths[0] * self.side_lengths[1]\n",
    "\n",
    "\n",
    "class Square(Rectangle):\n",
    "    def __init__(self, height):\n",
    "        super().__init__(height, height)"
   ]
  },
  {
   "cell_type": "code",
   "execution_count": 46,
   "metadata": {},
   "outputs": [
    {
     "data": {
      "text/plain": [
       "(5, 12)"
      ]
     },
     "execution_count": 46,
     "metadata": {},
     "output_type": "execute_result"
    }
   ],
   "source": [
    "r = Rectangle(1,5)\n",
    "r.area, r.permeter"
   ]
  },
  {
   "cell_type": "code",
   "execution_count": 50,
   "metadata": {},
   "outputs": [
    {
     "data": {
      "text/plain": [
       "(25, 20)"
      ]
     },
     "execution_count": 50,
     "metadata": {},
     "output_type": "execute_result"
    }
   ],
   "source": [
    "s = Square(5)\n",
    "s.area, s.permeter"
   ]
  }
 ],
 "metadata": {
  "interpreter": {
   "hash": "e0c0fc535d3a4574cc8f7de5fd7fa08a6aadbe1efe276a04e27ee4584e1eb9fa"
  },
  "kernelspec": {
   "display_name": "Python 3.8.8 64-bit ('ml': conda)",
   "language": "python",
   "name": "python3"
  },
  "language_info": {
   "codemirror_mode": {
    "name": "ipython",
    "version": 3
   },
   "file_extension": ".py",
   "mimetype": "text/x-python",
   "name": "python",
   "nbconvert_exporter": "python",
   "pygments_lexer": "ipython3",
   "version": "3.8.8"
  },
  "orig_nbformat": 4
 },
 "nbformat": 4,
 "nbformat_minor": 2
}
